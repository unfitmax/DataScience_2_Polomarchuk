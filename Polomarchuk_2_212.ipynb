{
 "cells": [
  {
   "cell_type": "markdown",
   "id": "61e20f2d",
   "metadata": {},
   "source": [
    "# Ежедневная рыночная цена каждой криптовалюты"
   ]
  },
  {
   "cell_type": "markdown",
   "id": "c88c1fa8",
   "metadata": {},
   "source": [
    "Поломарчук Максим Андреевич || ММР212 || mapolomarchuk@edu.hse.ru\n",
    "\n",
    "[Датасет](https://www.kaggle.com/datasets/jessevent/all-crypto-currencies)\n",
    "\n",
    "Столбцы:\n",
    "1. slug, object\n",
    "2. name, object \n",
    "3. date, object \n",
    "4. ranknow, int64  \n",
    "5. open, float64\n",
    "6. high, float64\n",
    "7. low, float64\n",
    "8. close, float64\n",
    "9. volume, float64\n",
    "10. market, float64\n",
    "11. close_ratio, float64\n",
    "12. spread, float64"
   ]
  },
  {
   "cell_type": "markdown",
   "id": "4ff34b25",
   "metadata": {},
   "source": [
    "# Импорт библиотек / Описательный анализ датасета / Нормализация данных"
   ]
  },
  {
   "cell_type": "markdown",
   "id": "fc4aabc1",
   "metadata": {},
   "source": [
    "Для начала импортируем необходимые для работы библиотеки"
   ]
  },
  {
   "cell_type": "code",
   "execution_count": 1,
   "id": "9e1419ea",
   "metadata": {},
   "outputs": [],
   "source": [
    "import matplotlib.pyplot as plt\n",
    "from scipy import stats\n",
    "import pandas as pd\n",
    "import numpy as np\n",
    "import seaborn as sns\n",
    "\n",
    "pd.options.display.float_format = '{:.4f}'.format #Корректирую формат для переменных типа Float"
   ]
  },
  {
   "cell_type": "markdown",
   "id": "5c009f62",
   "metadata": {},
   "source": [
    "Производим чтение датасета в расширении \".csv\". Анализируемый датасет уже разделен запятыми, использовать \"sep\" не нужно. Выводим первые пять строк датасета."
   ]
  },
  {
   "cell_type": "code",
   "execution_count": 2,
   "id": "dbda2cff",
   "metadata": {},
   "outputs": [
    {
     "data": {
      "text/html": [
       "<div>\n",
       "<style scoped>\n",
       "    .dataframe tbody tr th:only-of-type {\n",
       "        vertical-align: middle;\n",
       "    }\n",
       "\n",
       "    .dataframe tbody tr th {\n",
       "        vertical-align: top;\n",
       "    }\n",
       "\n",
       "    .dataframe thead th {\n",
       "        text-align: right;\n",
       "    }\n",
       "</style>\n",
       "<table border=\"1\" class=\"dataframe\">\n",
       "  <thead>\n",
       "    <tr style=\"text-align: right;\">\n",
       "      <th></th>\n",
       "      <th>slug</th>\n",
       "      <th>symbol</th>\n",
       "      <th>name</th>\n",
       "      <th>date</th>\n",
       "      <th>ranknow</th>\n",
       "      <th>open</th>\n",
       "      <th>high</th>\n",
       "      <th>low</th>\n",
       "      <th>close</th>\n",
       "      <th>volume</th>\n",
       "      <th>market</th>\n",
       "      <th>close_ratio</th>\n",
       "      <th>spread</th>\n",
       "    </tr>\n",
       "  </thead>\n",
       "  <tbody>\n",
       "    <tr>\n",
       "      <th>0</th>\n",
       "      <td>bitcoin</td>\n",
       "      <td>BTC</td>\n",
       "      <td>Bitcoin</td>\n",
       "      <td>2013-04-28</td>\n",
       "      <td>1</td>\n",
       "      <td>135.3000</td>\n",
       "      <td>135.9800</td>\n",
       "      <td>132.1000</td>\n",
       "      <td>134.2100</td>\n",
       "      <td>0.0000</td>\n",
       "      <td>1488566728.0000</td>\n",
       "      <td>0.5438</td>\n",
       "      <td>3.8800</td>\n",
       "    </tr>\n",
       "    <tr>\n",
       "      <th>1</th>\n",
       "      <td>bitcoin</td>\n",
       "      <td>BTC</td>\n",
       "      <td>Bitcoin</td>\n",
       "      <td>2013-04-29</td>\n",
       "      <td>1</td>\n",
       "      <td>134.4400</td>\n",
       "      <td>147.4900</td>\n",
       "      <td>134.0000</td>\n",
       "      <td>144.5400</td>\n",
       "      <td>0.0000</td>\n",
       "      <td>1603768865.0000</td>\n",
       "      <td>0.7813</td>\n",
       "      <td>13.4900</td>\n",
       "    </tr>\n",
       "    <tr>\n",
       "      <th>2</th>\n",
       "      <td>bitcoin</td>\n",
       "      <td>BTC</td>\n",
       "      <td>Bitcoin</td>\n",
       "      <td>2013-04-30</td>\n",
       "      <td>1</td>\n",
       "      <td>144.0000</td>\n",
       "      <td>146.9300</td>\n",
       "      <td>134.0500</td>\n",
       "      <td>139.0000</td>\n",
       "      <td>0.0000</td>\n",
       "      <td>1542813125.0000</td>\n",
       "      <td>0.3843</td>\n",
       "      <td>12.8800</td>\n",
       "    </tr>\n",
       "    <tr>\n",
       "      <th>3</th>\n",
       "      <td>bitcoin</td>\n",
       "      <td>BTC</td>\n",
       "      <td>Bitcoin</td>\n",
       "      <td>2013-05-01</td>\n",
       "      <td>1</td>\n",
       "      <td>139.0000</td>\n",
       "      <td>139.8900</td>\n",
       "      <td>107.7200</td>\n",
       "      <td>116.9900</td>\n",
       "      <td>0.0000</td>\n",
       "      <td>1298954594.0000</td>\n",
       "      <td>0.2882</td>\n",
       "      <td>32.1700</td>\n",
       "    </tr>\n",
       "    <tr>\n",
       "      <th>4</th>\n",
       "      <td>bitcoin</td>\n",
       "      <td>BTC</td>\n",
       "      <td>Bitcoin</td>\n",
       "      <td>2013-05-02</td>\n",
       "      <td>1</td>\n",
       "      <td>116.3800</td>\n",
       "      <td>125.6000</td>\n",
       "      <td>92.2800</td>\n",
       "      <td>105.2100</td>\n",
       "      <td>0.0000</td>\n",
       "      <td>1168517495.0000</td>\n",
       "      <td>0.3881</td>\n",
       "      <td>33.3200</td>\n",
       "    </tr>\n",
       "  </tbody>\n",
       "</table>\n",
       "</div>"
      ],
      "text/plain": [
       "      slug symbol     name        date  ranknow     open     high      low  \\\n",
       "0  bitcoin    BTC  Bitcoin  2013-04-28        1 135.3000 135.9800 132.1000   \n",
       "1  bitcoin    BTC  Bitcoin  2013-04-29        1 134.4400 147.4900 134.0000   \n",
       "2  bitcoin    BTC  Bitcoin  2013-04-30        1 144.0000 146.9300 134.0500   \n",
       "3  bitcoin    BTC  Bitcoin  2013-05-01        1 139.0000 139.8900 107.7200   \n",
       "4  bitcoin    BTC  Bitcoin  2013-05-02        1 116.3800 125.6000  92.2800   \n",
       "\n",
       "     close  volume          market  close_ratio  spread  \n",
       "0 134.2100  0.0000 1488566728.0000       0.5438  3.8800  \n",
       "1 144.5400  0.0000 1603768865.0000       0.7813 13.4900  \n",
       "2 139.0000  0.0000 1542813125.0000       0.3843 12.8800  \n",
       "3 116.9900  0.0000 1298954594.0000       0.2882 32.1700  \n",
       "4 105.2100  0.0000 1168517495.0000       0.3881 33.3200  "
      ]
     },
     "execution_count": 2,
     "metadata": {},
     "output_type": "execute_result"
    }
   ],
   "source": [
    "df_crypto = pd.read_csv('df_crypto.csv')\n",
    "df_crypto[:5]"
   ]
  },
  {
   "cell_type": "markdown",
   "id": "38f5d2df",
   "metadata": {},
   "source": [
    "Выведем информацию о строках и столбцах нашего датасета."
   ]
  },
  {
   "cell_type": "code",
   "execution_count": 3,
   "id": "1155d7cb",
   "metadata": {},
   "outputs": [
    {
     "data": {
      "text/plain": [
       "(942297, 13)"
      ]
     },
     "execution_count": 3,
     "metadata": {},
     "output_type": "execute_result"
    }
   ],
   "source": [
    "df_crypto.shape"
   ]
  },
  {
   "cell_type": "markdown",
   "id": "0449bcb5",
   "metadata": {},
   "source": [
    "Из информации выше видно, что наш датасет вмещает в себя свыше 900 тыс. строк и 13 столбцов.\n",
    "\n",
    "Проверим датасет на возможные пропуски."
   ]
  },
  {
   "cell_type": "code",
   "execution_count": 4,
   "id": "bfdce6cd",
   "metadata": {},
   "outputs": [
    {
     "data": {
      "text/plain": [
       "slug           0\n",
       "symbol         0\n",
       "name           0\n",
       "date           0\n",
       "ranknow        0\n",
       "open           0\n",
       "high           0\n",
       "low            0\n",
       "close          0\n",
       "volume         0\n",
       "market         0\n",
       "close_ratio    0\n",
       "spread         0\n",
       "dtype: int64"
      ]
     },
     "execution_count": 4,
     "metadata": {},
     "output_type": "execute_result"
    }
   ],
   "source": [
    "df_crypto.isnull().sum()"
   ]
  },
  {
   "cell_type": "markdown",
   "id": "c23b0029",
   "metadata": {},
   "source": [
    "Замечаю, что все столбцы заполнены, пропусков нет.\n",
    "\n",
    "Необходимо проверить, дублируют ли столбцы \"slug\" и \"name\" друг друга. Есть смысл облегчить достаточно крупный датасет, если данные дублируются."
   ]
  },
  {
   "cell_type": "code",
   "execution_count": 5,
   "id": "ef9dcbc1",
   "metadata": {},
   "outputs": [
    {
     "data": {
      "text/plain": [
       "bitcoin                            2042\n",
       "litecoin                           2042\n",
       "namecoin                           2042\n",
       "novacoin                           2041\n",
       "peercoin                           2041\n",
       "                                   ... \n",
       "stacs                                 3\n",
       "bitnautic-token                       2\n",
       "beat                                  2\n",
       "atlas-protocol                        2\n",
       "blockchain-certified-data-token       2\n",
       "Name: slug, Length: 2071, dtype: int64"
      ]
     },
     "execution_count": 5,
     "metadata": {},
     "output_type": "execute_result"
    }
   ],
   "source": [
    "df_crypto['slug'].value_counts()"
   ]
  },
  {
   "cell_type": "code",
   "execution_count": 6,
   "id": "81e3f498",
   "metadata": {},
   "outputs": [
    {
     "data": {
      "text/plain": [
       "Bitcoin                            2042\n",
       "Litecoin                           2042\n",
       "Namecoin                           2042\n",
       "Novacoin                           2041\n",
       "Peercoin                           2041\n",
       "                                   ... \n",
       "STACS                                 3\n",
       "BitNautic Token                       2\n",
       "BEAT                                  2\n",
       "Atlas Protocol                        2\n",
       "Blockchain Certified Data Token       2\n",
       "Name: name, Length: 2071, dtype: int64"
      ]
     },
     "execution_count": 6,
     "metadata": {},
     "output_type": "execute_result"
    }
   ],
   "source": [
    "df_crypto['name'].value_counts()"
   ]
  },
  {
   "cell_type": "markdown",
   "id": "ba0e7ab3",
   "metadata": {},
   "source": [
    "Как можно заметить, данные ячеек \"slug\" и \"name\" повторяются, а следовательно два одинаковых столбца не несут в себе практической значимости. Вероятнее всего столбец \"slug\" был создан как технический для парсинга информации в датасет.\n",
    "\n",
    "Избавимся от колонки \"slug\". Вывожу первую строку датасета, чтобы убедиться в успешном удалении столбца."
   ]
  },
  {
   "cell_type": "code",
   "execution_count": 7,
   "id": "f8fe2bab",
   "metadata": {},
   "outputs": [
    {
     "data": {
      "text/html": [
       "<div>\n",
       "<style scoped>\n",
       "    .dataframe tbody tr th:only-of-type {\n",
       "        vertical-align: middle;\n",
       "    }\n",
       "\n",
       "    .dataframe tbody tr th {\n",
       "        vertical-align: top;\n",
       "    }\n",
       "\n",
       "    .dataframe thead th {\n",
       "        text-align: right;\n",
       "    }\n",
       "</style>\n",
       "<table border=\"1\" class=\"dataframe\">\n",
       "  <thead>\n",
       "    <tr style=\"text-align: right;\">\n",
       "      <th></th>\n",
       "      <th>symbol</th>\n",
       "      <th>name</th>\n",
       "      <th>date</th>\n",
       "      <th>ranknow</th>\n",
       "      <th>open</th>\n",
       "      <th>high</th>\n",
       "      <th>low</th>\n",
       "      <th>close</th>\n",
       "      <th>volume</th>\n",
       "      <th>market</th>\n",
       "      <th>close_ratio</th>\n",
       "      <th>spread</th>\n",
       "    </tr>\n",
       "  </thead>\n",
       "  <tbody>\n",
       "    <tr>\n",
       "      <th>0</th>\n",
       "      <td>BTC</td>\n",
       "      <td>Bitcoin</td>\n",
       "      <td>2013-04-28</td>\n",
       "      <td>1</td>\n",
       "      <td>135.3000</td>\n",
       "      <td>135.9800</td>\n",
       "      <td>132.1000</td>\n",
       "      <td>134.2100</td>\n",
       "      <td>0.0000</td>\n",
       "      <td>1488566728.0000</td>\n",
       "      <td>0.5438</td>\n",
       "      <td>3.8800</td>\n",
       "    </tr>\n",
       "  </tbody>\n",
       "</table>\n",
       "</div>"
      ],
      "text/plain": [
       "  symbol     name        date  ranknow     open     high      low    close  \\\n",
       "0    BTC  Bitcoin  2013-04-28        1 135.3000 135.9800 132.1000 134.2100   \n",
       "\n",
       "   volume          market  close_ratio  spread  \n",
       "0  0.0000 1488566728.0000       0.5438  3.8800  "
      ]
     },
     "execution_count": 7,
     "metadata": {},
     "output_type": "execute_result"
    }
   ],
   "source": [
    "df_crypto.drop(columns = 'slug', axis = 1, inplace = True)\n",
    "df_crypto[:1]"
   ]
  },
  {
   "cell_type": "code",
   "execution_count": 8,
   "id": "61bf4808",
   "metadata": {},
   "outputs": [
    {
     "name": "stdout",
     "output_type": "stream",
     "text": [
      "<class 'pandas.core.frame.DataFrame'>\n",
      "RangeIndex: 942297 entries, 0 to 942296\n",
      "Data columns (total 12 columns):\n",
      " #   Column       Non-Null Count   Dtype  \n",
      "---  ------       --------------   -----  \n",
      " 0   symbol       942297 non-null  object \n",
      " 1   name         942297 non-null  object \n",
      " 2   date         942297 non-null  object \n",
      " 3   ranknow      942297 non-null  int64  \n",
      " 4   open         942297 non-null  float64\n",
      " 5   high         942297 non-null  float64\n",
      " 6   low          942297 non-null  float64\n",
      " 7   close        942297 non-null  float64\n",
      " 8   volume       942297 non-null  float64\n",
      " 9   market       942297 non-null  float64\n",
      " 10  close_ratio  942297 non-null  float64\n",
      " 11  spread       942297 non-null  float64\n",
      "dtypes: float64(8), int64(1), object(3)\n",
      "memory usage: 86.3+ MB\n"
     ]
    }
   ],
   "source": [
    "df_crypto.info()"
   ]
  },
  {
   "cell_type": "markdown",
   "id": "0361b0c9",
   "metadata": {},
   "source": [
    "Для удобства дальнейшей работы, переименовываю названия столбцов."
   ]
  },
  {
   "cell_type": "code",
   "execution_count": 9,
   "id": "3d2e2659",
   "metadata": {},
   "outputs": [],
   "source": [
    "df_crypto_columns = ['Символ', 'Наименование', 'Дата', 'Ранг','Цена открытия', 'Цена высшая', 'Цена низшая',\n",
    "                     'Цена закрытия', 'Объем', 'Рынок', 'Соотношение', 'Разброс']"
   ]
  },
  {
   "cell_type": "code",
   "execution_count": 10,
   "id": "49dd779d",
   "metadata": {},
   "outputs": [
    {
     "data": {
      "text/html": [
       "<div>\n",
       "<style scoped>\n",
       "    .dataframe tbody tr th:only-of-type {\n",
       "        vertical-align: middle;\n",
       "    }\n",
       "\n",
       "    .dataframe tbody tr th {\n",
       "        vertical-align: top;\n",
       "    }\n",
       "\n",
       "    .dataframe thead th {\n",
       "        text-align: right;\n",
       "    }\n",
       "</style>\n",
       "<table border=\"1\" class=\"dataframe\">\n",
       "  <thead>\n",
       "    <tr style=\"text-align: right;\">\n",
       "      <th></th>\n",
       "      <th>Символ</th>\n",
       "      <th>Наименование</th>\n",
       "      <th>Дата</th>\n",
       "      <th>Ранг</th>\n",
       "      <th>Цена открытия</th>\n",
       "      <th>Цена высшая</th>\n",
       "      <th>Цена низшая</th>\n",
       "      <th>Цена закрытия</th>\n",
       "      <th>Объем</th>\n",
       "      <th>Рынок</th>\n",
       "      <th>Соотношение</th>\n",
       "      <th>Разброс</th>\n",
       "    </tr>\n",
       "  </thead>\n",
       "  <tbody>\n",
       "    <tr>\n",
       "      <th>0</th>\n",
       "      <td>BTC</td>\n",
       "      <td>Bitcoin</td>\n",
       "      <td>2013-04-28</td>\n",
       "      <td>1</td>\n",
       "      <td>135.3000</td>\n",
       "      <td>135.9800</td>\n",
       "      <td>132.1000</td>\n",
       "      <td>134.2100</td>\n",
       "      <td>0.0000</td>\n",
       "      <td>1488566728.0000</td>\n",
       "      <td>0.5438</td>\n",
       "      <td>3.8800</td>\n",
       "    </tr>\n",
       "  </tbody>\n",
       "</table>\n",
       "</div>"
      ],
      "text/plain": [
       "  Символ Наименование        Дата  Ранг  Цена открытия  Цена высшая  \\\n",
       "0    BTC      Bitcoin  2013-04-28     1       135.3000     135.9800   \n",
       "\n",
       "   Цена низшая  Цена закрытия  Объем           Рынок  Соотношение  Разброс  \n",
       "0     132.1000       134.2100 0.0000 1488566728.0000       0.5438   3.8800  "
      ]
     },
     "execution_count": 10,
     "metadata": {},
     "output_type": "execute_result"
    }
   ],
   "source": [
    "df_crypto.columns = df_crypto_columns\n",
    "df_crypto[:1]"
   ]
  },
  {
   "cell_type": "markdown",
   "id": "2fbadc8f",
   "metadata": {},
   "source": [
    "Запросим наименование всех сокращенных символов каждой криптовалюты, имеющейся в датасете."
   ]
  },
  {
   "cell_type": "code",
   "execution_count": 11,
   "id": "3e9a9d38",
   "metadata": {},
   "outputs": [
    {
     "data": {
      "text/plain": [
       "BITS     3189\n",
       "PXC      2123\n",
       "BTB      2049\n",
       "BTM      2043\n",
       "LTC      2042\n",
       "         ... \n",
       "STACS       3\n",
       "BCDT        2\n",
       "ATP         2\n",
       "BEAT        2\n",
       "BTNT        2\n",
       "Name: Символ, Length: 2005, dtype: int64"
      ]
     },
     "execution_count": 11,
     "metadata": {},
     "output_type": "execute_result"
    }
   ],
   "source": [
    "df_crypto['Символ'].value_counts()"
   ]
  },
  {
   "cell_type": "markdown",
   "id": "d56ccd69",
   "metadata": {},
   "source": [
    "# Отклонения и выбросы"
   ]
  },
  {
   "cell_type": "markdown",
   "id": "cad77a0a",
   "metadata": {},
   "source": [
    "Для работы с отклонениями и выбросами, а также их оценкой, построим график \"ящик с усами\"."
   ]
  },
  {
   "cell_type": "code",
   "execution_count": 12,
   "id": "7293f961",
   "metadata": {},
   "outputs": [
    {
     "data": {
      "text/plain": [
       "<matplotlib.legend.Legend at 0x7fcf340afee0>"
      ]
     },
     "execution_count": 12,
     "metadata": {},
     "output_type": "execute_result"
    },
    {
     "data": {
      "image/png": "[encoded data removed]",
      "text/plain": [
       "<Figure size 1440x720 with 8 Axes>"
      ]
     },
     "metadata": {
      "needs_background": "light"
     },
     "output_type": "display_data"
    }
   ],
   "source": [
    "fig, ax = plt.subplots(2,4, figsize = (20, 10))\n",
    "\n",
    "violin_target = ax[0][0].boxplot(df_crypto['Цена открытия'],vert = False)\n",
    "ax[0][1].boxplot(df_crypto['Цена высшая'],vert = False)\n",
    "ax[0][2].boxplot(df_crypto['Цена низшая'],vert = False)\n",
    "ax[0][3].boxplot(df_crypto['Цена закрытия'],vert = False)\n",
    "ax[1][0].boxplot(df_crypto['Объем'],vert = False)\n",
    "ax[1][1].boxplot(df_crypto['Рынок'],vert = False)\n",
    "ax[1][2].boxplot(df_crypto['Соотношение'],vert = False)\n",
    "ax[1][3].boxplot(df_crypto['Разброс'],vert = False)\n",
    "\n",
    "ax[0][0].legend(['Цена открытия'], frameon = False)\n",
    "ax[0][1].legend(['Цена высшая'], frameon = False)\n",
    "ax[0][2].legend(['Цена низшая'], frameon = False)\n",
    "ax[0][3].legend(['Цена закрытия'], frameon= False)\n",
    "ax[1][0].legend(['Объем'], frameon = False)\n",
    "ax[1][1].legend(['Рынок'], frameon = False)\n",
    "ax[1][2].legend(['Соотношение'], frameon = False)\n",
    "ax[1][3].legend(['Разброс'], frameon = False)"
   ]
  },
  {
   "cell_type": "markdown",
   "id": "a798b90e",
   "metadata": {},
   "source": [
    "Замечаю, что в каждом столбце имеются незначительные выбросы. Избавлюсь от выбросов в каждом столбце."
   ]
  },
  {
   "cell_type": "code",
   "execution_count": 13,
   "id": "a16d9490",
   "metadata": {},
   "outputs": [
    {
     "name": "stdout",
     "output_type": "stream",
     "text": [
      "-39204.7216861827 39901.42608406196\n"
     ]
    }
   ],
   "source": [
    "mean_open = df_crypto['Цена открытия'].mean()\n",
    "std_open = df_crypto['Цена открытия'].std()\n",
    "std_bottom_open = mean_open - 3 * std_open\n",
    "std_top_open = mean_open + 3 * std_open\n",
    "print(std_bottom_open, std_top_open)"
   ]
  },
  {
   "cell_type": "code",
   "execution_count": 14,
   "id": "cab5aff9",
   "metadata": {},
   "outputs": [
    {
     "data": {
      "text/plain": [
       "(1078, 12)"
      ]
     },
     "execution_count": 14,
     "metadata": {},
     "output_type": "execute_result"
    }
   ],
   "source": [
    "df_crypto[df_crypto['Цена открытия'] > std_top_open].shape"
   ]
  },
  {
   "cell_type": "code",
   "execution_count": 15,
   "id": "4ef23c7b",
   "metadata": {},
   "outputs": [
    {
     "data": {
      "text/plain": [
       "(0, 12)"
      ]
     },
     "execution_count": 15,
     "metadata": {},
     "output_type": "execute_result"
    }
   ],
   "source": [
    "df_crypto[df_crypto['Цена открытия'] < std_bottom_open].shape"
   ]
  },
  {
   "cell_type": "code",
   "execution_count": 16,
   "id": "dab289c5",
   "metadata": {},
   "outputs": [
    {
     "data": {
      "text/plain": [
       "(941219, 12)"
      ]
     },
     "execution_count": 16,
     "metadata": {},
     "output_type": "execute_result"
    }
   ],
   "source": [
    "df_crypto = df_crypto[df_crypto['Цена открытия'] < std_top_open]\n",
    "df_crypto.shape"
   ]
  },
  {
   "cell_type": "code",
   "execution_count": 17,
   "id": "4b672906",
   "metadata": {},
   "outputs": [
    {
     "name": "stdout",
     "output_type": "stream",
     "text": [
      "-2307.318168693227 2390.481105291317\n"
     ]
    }
   ],
   "source": [
    "mean_high = df_crypto['Цена высшая'].mean()\n",
    "std_high = df_crypto['Цена высшая'].std()\n",
    "std_bottom_high = mean_high - 3 * std_high\n",
    "std_top_high = mean_high + 3 * std_high\n",
    "print(std_bottom_high, std_top_high)"
   ]
  },
  {
   "cell_type": "code",
   "execution_count": 18,
   "id": "97721300",
   "metadata": {},
   "outputs": [
    {
     "data": {
      "text/plain": [
       "(2921, 12)"
      ]
     },
     "execution_count": 18,
     "metadata": {},
     "output_type": "execute_result"
    }
   ],
   "source": [
    "df_crypto[df_crypto['Цена высшая'] > std_top_high].shape"
   ]
  },
  {
   "cell_type": "code",
   "execution_count": 19,
   "id": "8b2c5b12",
   "metadata": {},
   "outputs": [
    {
     "data": {
      "text/plain": [
       "(0, 12)"
      ]
     },
     "execution_count": 19,
     "metadata": {},
     "output_type": "execute_result"
    }
   ],
   "source": [
    "df_crypto[df_crypto['Цена высшая'] < std_bottom_high].shape"
   ]
  },
  {
   "cell_type": "code",
   "execution_count": 20,
   "id": "8ff27cc4",
   "metadata": {},
   "outputs": [
    {
     "data": {
      "text/plain": [
       "(938298, 12)"
      ]
     },
     "execution_count": 20,
     "metadata": {},
     "output_type": "execute_result"
    }
   ],
   "source": [
    "df_crypto = df_crypto[df_crypto['Цена высшая'] < std_top_high]\n",
    "df_crypto.shape"
   ]
  },
  {
   "cell_type": "code",
   "execution_count": 21,
   "id": "f7ea0493",
   "metadata": {},
   "outputs": [
    {
     "name": "stdout",
     "output_type": "stream",
     "text": [
      "-236.10227239477854 252.77701324312028\n"
     ]
    }
   ],
   "source": [
    "mean_low = df_crypto['Цена низшая'].mean()\n",
    "std_low = df_crypto['Цена низшая'].std()\n",
    "std_bottom_low = mean_low - 3 * std_low\n",
    "std_top_low = mean_low + 3 * std_low\n",
    "print(std_bottom_low, std_top_low)"
   ]
  },
  {
   "cell_type": "code",
   "execution_count": 22,
   "id": "55a91321",
   "metadata": {},
   "outputs": [
    {
     "data": {
      "text/plain": [
       "(7894, 12)"
      ]
     },
     "execution_count": 22,
     "metadata": {},
     "output_type": "execute_result"
    }
   ],
   "source": [
    "df_crypto[df_crypto['Цена низшая'] > std_top_low].shape"
   ]
  },
  {
   "cell_type": "code",
   "execution_count": 23,
   "id": "586e496d",
   "metadata": {},
   "outputs": [
    {
     "data": {
      "text/plain": [
       "(0, 12)"
      ]
     },
     "execution_count": 23,
     "metadata": {},
     "output_type": "execute_result"
    }
   ],
   "source": [
    "df_crypto[df_crypto['Цена низшая'] < std_bottom_low].shape"
   ]
  },
  {
   "cell_type": "code",
   "execution_count": 24,
   "id": "a7c4b326",
   "metadata": {},
   "outputs": [
    {
     "data": {
      "text/plain": [
       "(930404, 12)"
      ]
     },
     "execution_count": 24,
     "metadata": {},
     "output_type": "execute_result"
    }
   ],
   "source": [
    "df_crypto = df_crypto[df_crypto['Цена низшая'] < std_top_low]\n",
    "df_crypto.shape"
   ]
  },
  {
   "cell_type": "code",
   "execution_count": 25,
   "id": "cd81832b",
   "metadata": {},
   "outputs": [
    {
     "name": "stdout",
     "output_type": "stream",
     "text": [
      "-42.27009654343069 46.356857254687306\n"
     ]
    }
   ],
   "source": [
    "mean_close = df_crypto['Цена закрытия'].mean()\n",
    "std_close = df_crypto['Цена закрытия'].std()\n",
    "std_bottom_close = mean_close - 3 * std_close\n",
    "std_top_close = mean_close + 3 * std_close\n",
    "print(std_bottom_close, std_top_close)"
   ]
  },
  {
   "cell_type": "code",
   "execution_count": 26,
   "id": "f7bec22f",
   "metadata": {},
   "outputs": [
    {
     "data": {
      "text/plain": [
       "(9064, 12)"
      ]
     },
     "execution_count": 26,
     "metadata": {},
     "output_type": "execute_result"
    }
   ],
   "source": [
    "df_crypto[df_crypto['Цена закрытия'] > std_top_close].shape"
   ]
  },
  {
   "cell_type": "code",
   "execution_count": 27,
   "id": "5bb3bd55",
   "metadata": {},
   "outputs": [
    {
     "data": {
      "text/plain": [
       "(0, 12)"
      ]
     },
     "execution_count": 27,
     "metadata": {},
     "output_type": "execute_result"
    }
   ],
   "source": [
    "df_crypto[df_crypto['Цена закрытия'] < std_bottom_close].shape"
   ]
  },
  {
   "cell_type": "code",
   "execution_count": 28,
   "id": "7a280265",
   "metadata": {},
   "outputs": [
    {
     "data": {
      "text/plain": [
       "(921340, 12)"
      ]
     },
     "execution_count": 28,
     "metadata": {},
     "output_type": "execute_result"
    }
   ],
   "source": [
    "df_crypto = df_crypto[df_crypto['Цена закрытия'] < std_top_close]\n",
    "df_crypto.shape"
   ]
  },
  {
   "cell_type": "code",
   "execution_count": 29,
   "id": "47109282",
   "metadata": {},
   "outputs": [
    {
     "name": "stdout",
     "output_type": "stream",
     "text": [
      "-214697135.2286587 221958315.20226023\n"
     ]
    }
   ],
   "source": [
    "mean_volume = df_crypto['Объем'].mean()\n",
    "std_volume = df_crypto['Объем'].std()\n",
    "std_bottom_volume = mean_volume - 3 * std_volume\n",
    "std_top_volume = mean_volume + 3 * std_volume\n",
    "print(std_bottom_volume, std_top_volume)"
   ]
  },
  {
   "cell_type": "code",
   "execution_count": 30,
   "id": "c3608527",
   "metadata": {},
   "outputs": [
    {
     "data": {
      "text/plain": [
       "(2028, 12)"
      ]
     },
     "execution_count": 30,
     "metadata": {},
     "output_type": "execute_result"
    }
   ],
   "source": [
    "df_crypto[df_crypto['Объем'] > std_top_volume].shape"
   ]
  },
  {
   "cell_type": "code",
   "execution_count": 31,
   "id": "3c323aa3",
   "metadata": {},
   "outputs": [
    {
     "data": {
      "text/plain": [
       "(0, 12)"
      ]
     },
     "execution_count": 31,
     "metadata": {},
     "output_type": "execute_result"
    }
   ],
   "source": [
    "df_crypto[df_crypto['Объем'] < std_bottom_volume].shape"
   ]
  },
  {
   "cell_type": "code",
   "execution_count": 32,
   "id": "c7669259",
   "metadata": {},
   "outputs": [
    {
     "data": {
      "text/plain": [
       "(919312, 12)"
      ]
     },
     "execution_count": 32,
     "metadata": {},
     "output_type": "execute_result"
    }
   ],
   "source": [
    "df_crypto = df_crypto[df_crypto['Объем'] < std_top_volume]\n",
    "df_crypto.shape"
   ]
  },
  {
   "cell_type": "code",
   "execution_count": 33,
   "id": "8d3716b2",
   "metadata": {},
   "outputs": [
    {
     "name": "stdout",
     "output_type": "stream",
     "text": [
      "-775702876.6247742 835830685.2777603\n"
     ]
    }
   ],
   "source": [
    "mean_market = df_crypto['Рынок'].mean()\n",
    "std_market = df_crypto['Рынок'].std()\n",
    "std_bottom_market = mean_market - 3 * std_market\n",
    "std_top_market = mean_market + 3 * std_market\n",
    "print(std_bottom_market, std_top_market)"
   ]
  },
  {
   "cell_type": "code",
   "execution_count": 34,
   "id": "16b926a2",
   "metadata": {},
   "outputs": [
    {
     "data": {
      "text/plain": [
       "(5345, 12)"
      ]
     },
     "execution_count": 34,
     "metadata": {},
     "output_type": "execute_result"
    }
   ],
   "source": [
    "df_crypto[df_crypto['Рынок'] > std_top_market].shape"
   ]
  },
  {
   "cell_type": "code",
   "execution_count": 35,
   "id": "81918028",
   "metadata": {},
   "outputs": [
    {
     "data": {
      "text/plain": [
       "(0, 12)"
      ]
     },
     "execution_count": 35,
     "metadata": {},
     "output_type": "execute_result"
    }
   ],
   "source": [
    "df_crypto[df_crypto['Рынок'] < std_bottom_market].shape"
   ]
  },
  {
   "cell_type": "code",
   "execution_count": 36,
   "id": "f655e7bd",
   "metadata": {},
   "outputs": [
    {
     "data": {
      "text/plain": [
       "(913967, 12)"
      ]
     },
     "execution_count": 36,
     "metadata": {},
     "output_type": "execute_result"
    }
   ],
   "source": [
    "df_crypto = df_crypto[df_crypto['Рынок'] < std_top_market]\n",
    "df_crypto.shape"
   ]
  },
  {
   "cell_type": "code",
   "execution_count": 37,
   "id": "945c9317",
   "metadata": {},
   "outputs": [
    {
     "name": "stdout",
     "output_type": "stream",
     "text": [
      "-0.5216692717814317 1.437824198381597\n"
     ]
    }
   ],
   "source": [
    "mean_ratio = df_crypto['Соотношение'].mean()\n",
    "std_ratio = df_crypto['Соотношение'].std()\n",
    "std_bottom_ratio = mean_ratio - 3 * std_ratio\n",
    "std_top_ratio = mean_ratio + 3 * std_ratio\n",
    "print(std_bottom_ratio, std_top_ratio)"
   ]
  },
  {
   "cell_type": "code",
   "execution_count": 38,
   "id": "91da9aa9",
   "metadata": {},
   "outputs": [
    {
     "data": {
      "text/plain": [
       "(0, 12)"
      ]
     },
     "execution_count": 38,
     "metadata": {},
     "output_type": "execute_result"
    }
   ],
   "source": [
    "df_crypto[df_crypto['Соотношение'] > std_top_ratio].shape"
   ]
  },
  {
   "cell_type": "code",
   "execution_count": 39,
   "id": "f906bfac",
   "metadata": {},
   "outputs": [
    {
     "data": {
      "text/plain": [
       "(1, 12)"
      ]
     },
     "execution_count": 39,
     "metadata": {},
     "output_type": "execute_result"
    }
   ],
   "source": [
    "df_crypto[df_crypto['Соотношение'] < std_bottom_ratio].shape"
   ]
  },
  {
   "cell_type": "code",
   "execution_count": 40,
   "id": "23c067ec",
   "metadata": {},
   "outputs": [
    {
     "data": {
      "text/plain": [
       "(913967, 12)"
      ]
     },
     "execution_count": 40,
     "metadata": {},
     "output_type": "execute_result"
    }
   ],
   "source": [
    "df_crypto = df_crypto[df_crypto['Соотношение'] < std_top_ratio]\n",
    "df_crypto.shape"
   ]
  },
  {
   "cell_type": "code",
   "execution_count": 41,
   "id": "b97df57f",
   "metadata": {},
   "outputs": [
    {
     "name": "stdout",
     "output_type": "stream",
     "text": [
      "-6.814481604143307 7.107258039178014\n"
     ]
    }
   ],
   "source": [
    "mean_spread = df_crypto['Разброс'].mean()\n",
    "std_spread = df_crypto['Разброс'].std()\n",
    "std_bottom_spread = mean_spread - 3 * std_spread\n",
    "std_top_spread = mean_spread + 3 * std_spread\n",
    "print(std_bottom_spread, std_top_spread)"
   ]
  },
  {
   "cell_type": "code",
   "execution_count": 42,
   "id": "925bd450",
   "metadata": {},
   "outputs": [
    {
     "data": {
      "text/plain": [
       "(2218, 12)"
      ]
     },
     "execution_count": 42,
     "metadata": {},
     "output_type": "execute_result"
    }
   ],
   "source": [
    "df_crypto[df_crypto['Разброс'] > std_top_spread].shape"
   ]
  },
  {
   "cell_type": "code",
   "execution_count": 43,
   "id": "2afc772a",
   "metadata": {},
   "outputs": [
    {
     "data": {
      "text/plain": [
       "(0, 12)"
      ]
     },
     "execution_count": 43,
     "metadata": {},
     "output_type": "execute_result"
    }
   ],
   "source": [
    "df_crypto[df_crypto['Разброс'] < std_bottom_spread].shape"
   ]
  },
  {
   "cell_type": "code",
   "execution_count": 44,
   "id": "9d2b0199",
   "metadata": {},
   "outputs": [
    {
     "data": {
      "text/plain": [
       "(911749, 12)"
      ]
     },
     "execution_count": 44,
     "metadata": {},
     "output_type": "execute_result"
    }
   ],
   "source": [
    "df_crypto = df_crypto[df_crypto['Разброс'] < std_top_spread]\n",
    "df_crypto.shape"
   ]
  },
  {
   "cell_type": "code",
   "execution_count": 45,
   "id": "8cbc4291",
   "metadata": {},
   "outputs": [
    {
     "data": {
      "text/plain": [
       "<matplotlib.legend.Legend at 0x7fcf34c86310>"
      ]
     },
     "execution_count": 45,
     "metadata": {},
     "output_type": "execute_result"
    },
    {
     "data": {
      "image/png": "[encoded data removed]",
      "text/plain": [
       "<Figure size 1440x720 with 8 Axes>"
      ]
     },
     "metadata": {
      "needs_background": "light"
     },
     "output_type": "display_data"
    }
   ],
   "source": [
    "fig, ax = plt.subplots(2,4, figsize = (20, 10))\n",
    "\n",
    "violin_target = ax[0][0].boxplot(df_crypto['Цена открытия'],vert = False)\n",
    "ax[0][1].boxplot(df_crypto['Цена высшая'],vert = False)\n",
    "ax[0][2].boxplot(df_crypto['Цена низшая'],vert = False)\n",
    "ax[0][3].boxplot(df_crypto['Цена закрытия'],vert = False)\n",
    "ax[1][0].boxplot(df_crypto['Объем'],vert = False)\n",
    "ax[1][1].boxplot(df_crypto['Рынок'],vert = False)\n",
    "ax[1][2].boxplot(df_crypto['Соотношение'],vert = False)\n",
    "ax[1][3].boxplot(df_crypto['Разброс'],vert = False)\n",
    "\n",
    "ax[0][0].legend(['Цена открытия'], frameon = False)\n",
    "ax[0][1].legend(['Цена высшая'], frameon = False)\n",
    "ax[0][2].legend(['Цена низшая'], frameon = False)\n",
    "ax[0][3].legend(['Цена закрытия'], frameon= False)\n",
    "ax[1][0].legend(['Объем'], frameon = False)\n",
    "ax[1][1].legend(['Рынок'], frameon = False)\n",
    "ax[1][2].legend(['Соотношение'], frameon = False)\n",
    "ax[1][3].legend(['Разброс'], frameon = False)"
   ]
  },
  {
   "cell_type": "markdown",
   "id": "bcceca60",
   "metadata": {},
   "source": [
    "# Статистический анализ"
   ]
  },
  {
   "cell_type": "markdown",
   "id": "4ef54642",
   "metadata": {},
   "source": [
    "Используем датафрейм \"numeric_variables\" для анализа колличественных переменных."
   ]
  },
  {
   "cell_type": "code",
   "execution_count": 46,
   "id": "87bcf489",
   "metadata": {},
   "outputs": [],
   "source": [
    "numeric_variables = ['Цена открытия', 'Цена высшая', 'Цена низшая', 'Цена закрытия', 'Объем', 'Рынок',\n",
    "                     'Соотношение', 'Разброс']"
   ]
  },
  {
   "cell_type": "markdown",
   "id": "d421c163",
   "metadata": {},
   "source": [
    "Принимаю решение оценить описательные статистики для созданного датафрейма."
   ]
  },
  {
   "cell_type": "code",
   "execution_count": 47,
   "id": "38ecb0d2",
   "metadata": {},
   "outputs": [
    {
     "data": {
      "text/html": [
       "<div>\n",
       "<style scoped>\n",
       "    .dataframe tbody tr th:only-of-type {\n",
       "        vertical-align: middle;\n",
       "    }\n",
       "\n",
       "    .dataframe tbody tr th {\n",
       "        vertical-align: top;\n",
       "    }\n",
       "\n",
       "    .dataframe thead th {\n",
       "        text-align: right;\n",
       "    }\n",
       "</style>\n",
       "<table border=\"1\" class=\"dataframe\">\n",
       "  <thead>\n",
       "    <tr style=\"text-align: right;\">\n",
       "      <th></th>\n",
       "      <th>Цена открытия</th>\n",
       "      <th>Цена высшая</th>\n",
       "      <th>Цена низшая</th>\n",
       "      <th>Цена закрытия</th>\n",
       "      <th>Объем</th>\n",
       "      <th>Рынок</th>\n",
       "      <th>Соотношение</th>\n",
       "      <th>Разброс</th>\n",
       "    </tr>\n",
       "  </thead>\n",
       "  <tbody>\n",
       "    <tr>\n",
       "      <th>count</th>\n",
       "      <td>911749.0000</td>\n",
       "      <td>911749.0000</td>\n",
       "      <td>911749.0000</td>\n",
       "      <td>911749.0000</td>\n",
       "      <td>911749.0000</td>\n",
       "      <td>911749.0000</td>\n",
       "      <td>911749.0000</td>\n",
       "      <td>911749.0000</td>\n",
       "    </tr>\n",
       "    <tr>\n",
       "      <th>mean</th>\n",
       "      <td>0.6935</td>\n",
       "      <td>0.7481</td>\n",
       "      <td>0.6386</td>\n",
       "      <td>0.6903</td>\n",
       "      <td>955009.0584</td>\n",
       "      <td>16242613.4108</td>\n",
       "      <td>0.4581</td>\n",
       "      <td>0.1091</td>\n",
       "    </tr>\n",
       "    <tr>\n",
       "      <th>std</th>\n",
       "      <td>2.9525</td>\n",
       "      <td>3.1302</td>\n",
       "      <td>2.7578</td>\n",
       "      <td>2.9336</td>\n",
       "      <td>6413514.9603</td>\n",
       "      <td>60134906.3301</td>\n",
       "      <td>0.3266</td>\n",
       "      <td>0.4648</td>\n",
       "    </tr>\n",
       "    <tr>\n",
       "      <th>min</th>\n",
       "      <td>0.0000</td>\n",
       "      <td>0.0000</td>\n",
       "      <td>0.0000</td>\n",
       "      <td>0.0000</td>\n",
       "      <td>0.0000</td>\n",
       "      <td>0.0000</td>\n",
       "      <td>-1.0000</td>\n",
       "      <td>0.0000</td>\n",
       "    </tr>\n",
       "    <tr>\n",
       "      <th>25%</th>\n",
       "      <td>0.0021</td>\n",
       "      <td>0.0024</td>\n",
       "      <td>0.0018</td>\n",
       "      <td>0.0021</td>\n",
       "      <td>163.0000</td>\n",
       "      <td>28628.0000</td>\n",
       "      <td>0.1606</td>\n",
       "      <td>0.0000</td>\n",
       "    </tr>\n",
       "    <tr>\n",
       "      <th>50%</th>\n",
       "      <td>0.0210</td>\n",
       "      <td>0.0236</td>\n",
       "      <td>0.0188</td>\n",
       "      <td>0.0209</td>\n",
       "      <td>3878.0000</td>\n",
       "      <td>487250.0000</td>\n",
       "      <td>0.4301</td>\n",
       "      <td>0.0000</td>\n",
       "    </tr>\n",
       "    <tr>\n",
       "      <th>75%</th>\n",
       "      <td>0.1791</td>\n",
       "      <td>0.1982</td>\n",
       "      <td>0.1616</td>\n",
       "      <td>0.1784</td>\n",
       "      <td>101285.0000</td>\n",
       "      <td>6074290.0000</td>\n",
       "      <td>0.7444</td>\n",
       "      <td>0.0300</td>\n",
       "    </tr>\n",
       "    <tr>\n",
       "      <th>max</th>\n",
       "      <td>52.1000</td>\n",
       "      <td>52.6700</td>\n",
       "      <td>46.1700</td>\n",
       "      <td>46.3400</td>\n",
       "      <td>221380992.0000</td>\n",
       "      <td>835631550.0000</td>\n",
       "      <td>1.0000</td>\n",
       "      <td>7.1000</td>\n",
       "    </tr>\n",
       "  </tbody>\n",
       "</table>\n",
       "</div>"
      ],
      "text/plain": [
       "       Цена открытия  Цена высшая  Цена низшая  Цена закрытия          Объем  \\\n",
       "count    911749.0000  911749.0000  911749.0000    911749.0000    911749.0000   \n",
       "mean          0.6935       0.7481       0.6386         0.6903    955009.0584   \n",
       "std           2.9525       3.1302       2.7578         2.9336   6413514.9603   \n",
       "min           0.0000       0.0000       0.0000         0.0000         0.0000   \n",
       "25%           0.0021       0.0024       0.0018         0.0021       163.0000   \n",
       "50%           0.0210       0.0236       0.0188         0.0209      3878.0000   \n",
       "75%           0.1791       0.1982       0.1616         0.1784    101285.0000   \n",
       "max          52.1000      52.6700      46.1700        46.3400 221380992.0000   \n",
       "\n",
       "               Рынок  Соотношение     Разброс  \n",
       "count    911749.0000  911749.0000 911749.0000  \n",
       "mean   16242613.4108       0.4581      0.1091  \n",
       "std    60134906.3301       0.3266      0.4648  \n",
       "min           0.0000      -1.0000      0.0000  \n",
       "25%       28628.0000       0.1606      0.0000  \n",
       "50%      487250.0000       0.4301      0.0000  \n",
       "75%     6074290.0000       0.7444      0.0300  \n",
       "max   835631550.0000       1.0000      7.1000  "
      ]
     },
     "execution_count": 47,
     "metadata": {},
     "output_type": "execute_result"
    }
   ],
   "source": [
    "df_crypto[numeric_variables].describe()"
   ]
  },
  {
   "cell_type": "markdown",
   "id": "cceb5052",
   "metadata": {},
   "source": [
    "Исходя из описательных статистик можно сделать следующие выводы:\n",
    "- Количество криптовалют, которые установили максимум за стоимость одной единицы валюты, являются меньшинством, средняя стоимость колеблется от 3,13 до 2,75 у.е.\n",
    "- Цена открытия, то есть первая покупка криптовалюты, в среднем, близка к пику стоимости этой криптовалюты, при этом продажа валюты, в среднем, близка к минимуму стоимости криптовалюты. Из этого можно сделать вывод о том, что в среднем, спикуляция на криптовалюте работает в убыток для инвестора.\n",
    "- В среднем, при падении стоимости криптовалюты, инвесторы стараются избавиться от нее, чтобы сохранить свои вложения.\n",
    "- Цена закрытия, в среднем, всегда выше минимума стоимости криптовалюты.\n",
    "- В пике популярности криптовалют 2013-2018 года, объем рынка достигал 835631550 у.е.\n",
    "- Среднаяя рыночная капитализация за период 2013-2018 года, составляла 60134906 у.е."
   ]
  },
  {
   "cell_type": "code",
   "execution_count": 48,
   "id": "36deb743",
   "metadata": {},
   "outputs": [],
   "source": [
    "cost_crypto_mean = df_crypto.groupby(df_crypto['Наименование'])['Цена открытия'].std()"
   ]
  },
  {
   "cell_type": "code",
   "execution_count": 49,
   "id": "41065ccc",
   "metadata": {},
   "outputs": [
    {
     "data": {
      "text/plain": [
       "Наименование\n",
       "smARTOFGIVING   0.0177\n",
       "ugChain         0.0358\n",
       "vSlice          0.2885\n",
       "vSportCoin      0.0007\n",
       "wys Token       0.0137\n",
       "Name: Цена открытия, dtype: float64"
      ]
     },
     "execution_count": 49,
     "metadata": {},
     "output_type": "execute_result"
    }
   ],
   "source": [
    "cost_crypto_mean = df_crypto.sort_values(by = ['Наименование', 'Цена открытия'], ascending = [False, False])\n",
    "cost_crypto_mean_1 = cost_crypto_mean.groupby(df_crypto['Наименование'])['Цена открытия'].std().tail()\n",
    "cost_crypto_mean_1"
   ]
  },
  {
   "cell_type": "markdown",
   "id": "7c08de96",
   "metadata": {},
   "source": [
    "# Построение модели и поиск взаимосвязей между переменными"
   ]
  },
  {
   "cell_type": "markdown",
   "id": "7b49568a",
   "metadata": {},
   "source": [
    "Построим тепловую карту коэффициентов корреляции, чтобы определить взаимосвязи между переменными."
   ]
  },
  {
   "cell_type": "code",
   "execution_count": 50,
   "id": "6a58d3d7",
   "metadata": {},
   "outputs": [
    {
     "data": {
      "text/plain": [
       "<AxesSubplot:title={'center':'Карта коэффициентов корреляции'}>"
      ]
     },
     "execution_count": 50,
     "metadata": {},
     "output_type": "execute_result"
    },
    {
     "data": {
      "image/png": "[encoded data removed]",
      "text/plain": [
       "<Figure size 720x576 with 2 Axes>"
      ]
     },
     "metadata": {
      "needs_background": "light"
     },
     "output_type": "display_data"
    }
   ],
   "source": [
    "colormap = sns.color_palette('Blues')\n",
    "plt.figure(figsize = (10, 8))\n",
    "plt.title('Карта коэффициентов корреляции', fontsize = 20, font = 'Times New Roman', fontweight = 'bold')\n",
    "plt.tick_params(labelsize = 14)\n",
    "sns.heatmap(df_crypto.corr(), annot=True, alpha = 1, vmin = -1, vmax = 1, center = 0, cmap = colormap)"
   ]
  },
  {
   "cell_type": "markdown",
   "id": "745c1238",
   "metadata": {},
   "source": [
    "К тепловой карте применил цветовую карту Blues, для того, чтобы более явно отсеять менее значащие коэффициенты корреляции.\n",
    "\n",
    "На основе датафрейма колличественных переменных, построим матрицу корреляционного распределения данных."
   ]
  },
  {
   "cell_type": "code",
   "execution_count": 51,
   "id": "38ad1885",
   "metadata": {},
   "outputs": [
    {
     "data": {
      "text/html": [
       "<div>\n",
       "<style scoped>\n",
       "    .dataframe tbody tr th:only-of-type {\n",
       "        vertical-align: middle;\n",
       "    }\n",
       "\n",
       "    .dataframe tbody tr th {\n",
       "        vertical-align: top;\n",
       "    }\n",
       "\n",
       "    .dataframe thead th {\n",
       "        text-align: right;\n",
       "    }\n",
       "</style>\n",
       "<table border=\"1\" class=\"dataframe\">\n",
       "  <thead>\n",
       "    <tr style=\"text-align: right;\">\n",
       "      <th></th>\n",
       "      <th>Цена открытия</th>\n",
       "      <th>Цена высшая</th>\n",
       "      <th>Цена низшая</th>\n",
       "      <th>Цена закрытия</th>\n",
       "    </tr>\n",
       "    <tr>\n",
       "      <th>Наименование</th>\n",
       "      <th></th>\n",
       "      <th></th>\n",
       "      <th></th>\n",
       "      <th></th>\n",
       "    </tr>\n",
       "  </thead>\n",
       "  <tbody>\n",
       "    <tr>\n",
       "      <th>0chain</th>\n",
       "      <td>0.2286</td>\n",
       "      <td>0.2478</td>\n",
       "      <td>0.2077</td>\n",
       "      <td>0.2260</td>\n",
       "    </tr>\n",
       "    <tr>\n",
       "      <th>0x</th>\n",
       "      <td>0.6897</td>\n",
       "      <td>0.7333</td>\n",
       "      <td>0.6430</td>\n",
       "      <td>0.6877</td>\n",
       "    </tr>\n",
       "    <tr>\n",
       "      <th>0xBitcoin</th>\n",
       "      <td>0.7583</td>\n",
       "      <td>0.8490</td>\n",
       "      <td>0.6680</td>\n",
       "      <td>0.7522</td>\n",
       "    </tr>\n",
       "    <tr>\n",
       "      <th>0xcert</th>\n",
       "      <td>0.0117</td>\n",
       "      <td>0.0123</td>\n",
       "      <td>0.0106</td>\n",
       "      <td>0.0114</td>\n",
       "    </tr>\n",
       "    <tr>\n",
       "      <th>1World</th>\n",
       "      <td>0.1588</td>\n",
       "      <td>0.1745</td>\n",
       "      <td>0.1425</td>\n",
       "      <td>0.1575</td>\n",
       "    </tr>\n",
       "    <tr>\n",
       "      <th>...</th>\n",
       "      <td>...</td>\n",
       "      <td>...</td>\n",
       "      <td>...</td>\n",
       "      <td>...</td>\n",
       "    </tr>\n",
       "    <tr>\n",
       "      <th>smARTOFGIVING</th>\n",
       "      <td>0.1054</td>\n",
       "      <td>0.1098</td>\n",
       "      <td>0.0950</td>\n",
       "      <td>0.1050</td>\n",
       "    </tr>\n",
       "    <tr>\n",
       "      <th>ugChain</th>\n",
       "      <td>0.0377</td>\n",
       "      <td>0.0411</td>\n",
       "      <td>0.0344</td>\n",
       "      <td>0.0373</td>\n",
       "    </tr>\n",
       "    <tr>\n",
       "      <th>vSlice</th>\n",
       "      <td>0.2298</td>\n",
       "      <td>0.2536</td>\n",
       "      <td>0.2091</td>\n",
       "      <td>0.2297</td>\n",
       "    </tr>\n",
       "    <tr>\n",
       "      <th>vSportCoin</th>\n",
       "      <td>0.0031</td>\n",
       "      <td>0.0032</td>\n",
       "      <td>0.0029</td>\n",
       "      <td>0.0031</td>\n",
       "    </tr>\n",
       "    <tr>\n",
       "      <th>wys Token</th>\n",
       "      <td>0.0215</td>\n",
       "      <td>0.0233</td>\n",
       "      <td>0.0188</td>\n",
       "      <td>0.0213</td>\n",
       "    </tr>\n",
       "  </tbody>\n",
       "</table>\n",
       "<p>2055 rows × 4 columns</p>\n",
       "</div>"
      ],
      "text/plain": [
       "               Цена открытия  Цена высшая  Цена низшая  Цена закрытия\n",
       "Наименование                                                         \n",
       "0chain                0.2286       0.2478       0.2077         0.2260\n",
       "0x                    0.6897       0.7333       0.6430         0.6877\n",
       "0xBitcoin             0.7583       0.8490       0.6680         0.7522\n",
       "0xcert                0.0117       0.0123       0.0106         0.0114\n",
       "1World                0.1588       0.1745       0.1425         0.1575\n",
       "...                      ...          ...          ...            ...\n",
       "smARTOFGIVING         0.1054       0.1098       0.0950         0.1050\n",
       "ugChain               0.0377       0.0411       0.0344         0.0373\n",
       "vSlice                0.2298       0.2536       0.2091         0.2297\n",
       "vSportCoin            0.0031       0.0032       0.0029         0.0031\n",
       "wys Token             0.0215       0.0233       0.0188         0.0213\n",
       "\n",
       "[2055 rows x 4 columns]"
      ]
     },
     "execution_count": 51,
     "metadata": {},
     "output_type": "execute_result"
    }
   ],
   "source": [
    "cost_open = df_crypto.groupby(df_crypto['Наименование'])['Цена открытия'].mean()\n",
    "cost_max = df_crypto.groupby(df_crypto['Наименование'])['Цена высшая'].mean()\n",
    "cost_close = df_crypto.groupby(df_crypto['Наименование'])['Цена низшая'].mean()\n",
    "cost_min = df_crypto.groupby(df_crypto['Наименование'])['Цена закрытия'].mean()\n",
    "\n",
    "crypto_name = pd.concat([cost_open, cost_max, cost_close, cost_min], axis=1)\n",
    "crypto_name"
   ]
  },
  {
   "cell_type": "code",
   "execution_count": 52,
   "id": "026aea43",
   "metadata": {},
   "outputs": [
    {
     "data": {
      "text/plain": [
       "<seaborn.axisgrid.PairGrid at 0x7fcf28305c40>"
      ]
     },
     "execution_count": 52,
     "metadata": {},
     "output_type": "execute_result"
    },
    {
     "data": {
      "image/png": "[encoded data removed]",
      "text/plain": [
       "<Figure size 720x720 with 20 Axes>"
      ]
     },
     "metadata": {
      "needs_background": "light"
     },
     "output_type": "display_data"
    }
   ],
   "source": [
    "sns.pairplot(crypto_name)"
   ]
  },
  {
   "cell_type": "markdown",
   "id": "3d702396",
   "metadata": {},
   "source": [
    "Принимаю решение построить линейную модель, а также посчитать коэффициент детерминации."
   ]
  },
  {
   "cell_type": "code",
   "execution_count": 53,
   "id": "5ddbc555",
   "metadata": {},
   "outputs": [
    {
     "name": "stdout",
     "output_type": "stream",
     "text": [
      "LinregressResult(slope=0.9955679991269016, intercept=-0.0012476707215444138, rvalue=0.9999522670534858, pvalue=0.0, stderr=0.00021469212844920445, intercept_stderr=0.0006478760339968754)\n"
     ]
    }
   ],
   "source": [
    "import scipy.stats\n",
    "import statsmodels.api as sm\n",
    "\n",
    "x = crypto_name['Цена открытия']\n",
    "y = crypto_name['Цена закрытия']\n",
    "\n",
    "model = scipy.stats.linregress(x, y)\n",
    "print(model)"
   ]
  },
  {
   "cell_type": "code",
   "execution_count": 54,
   "id": "bb5c418b",
   "metadata": {},
   "outputs": [
    {
     "name": "stdout",
     "output_type": "stream",
     "text": [
      "0.9999045363854059\n"
     ]
    }
   ],
   "source": [
    "determ = model.rvalue ** 2\n",
    "print(determ)"
   ]
  },
  {
   "cell_type": "markdown",
   "id": "7441d656",
   "metadata": {},
   "source": [
    "Исходя из расчетов r квадрат видно, что модель объясняет 99% выбросов модели."
   ]
  },
  {
   "cell_type": "code",
   "execution_count": 55,
   "id": "a3fbf908",
   "metadata": {},
   "outputs": [
    {
     "data": {
      "image/png": "[encoded data removed]",
      "text/plain": [
       "<Figure size 432x288 with 1 Axes>"
      ]
     },
     "metadata": {
      "needs_background": "light"
     },
     "output_type": "display_data"
    }
   ],
   "source": [
    "plt.plot(x, y, label = 'Данные датасета')\n",
    "plt.plot(x, model.intercept + model.slope * x, 'r', label = 'Регрессия')\n",
    "plt.legend()\n",
    "plt.show()"
   ]
  },
  {
   "cell_type": "markdown",
   "id": "aff1e71f",
   "metadata": {},
   "source": [
    "На графике линейной модели можно заметить положительную линейную зависимость между переменными."
   ]
  },
  {
   "cell_type": "markdown",
   "id": "e25ed56e",
   "metadata": {},
   "source": [
    "**Выводы**\n",
    "\n",
    "Количество криптовалют, которые установили максимум за стоимость одной единицы валюты, являются меньшинством, средняя стоимость колеблется от 3,13 до 2,75 у.е. В рамках данного анализа, высокая стоимость некоторых криптовалют являются скорее выбросами, нежеле статистически значимыми факторами.\n",
    "\n",
    "Цена открытия, то есть первая покупка криптовалюты, в среднем, близка к пику стоимости этой криптовалюты, при этом продажа валюты, в среднем, близка к минимуму стоимости криптовалюты. Из этого можно сделать вывод о том, что в среднем, спикуляция на криптовалюте работает в убыток для инвестора.\n",
    "\n",
    "Можно сделать вывод о поведенческом факторе инвесторов. Растущая капитализация и объем криптовалюты привлекает инвесторов к покупке в надежде заработать на последующей спикуляции. Закономерно, что и падение стоимости криптовалюты, в среднем, приводит к продаже полного пакета активов, либо ее части, в целях сохранения имеющегося капитала."
   ]
  }
 ],
 "metadata": {
  "kernelspec": {
   "display_name": "Python 3 (ipykernel)",
   "language": "python",
   "name": "python3"
  },
  "language_info": {
   "codemirror_mode": {
    "name": "ipython",
    "version": 3
   },
   "file_extension": ".py",
   "mimetype": "text/x-python",
   "name": "python",
   "nbconvert_exporter": "python",
   "pygments_lexer": "ipython3",
   "version": "3.9.12"
  }
 },
 "nbformat": 4,
 "nbformat_minor": 5
}
